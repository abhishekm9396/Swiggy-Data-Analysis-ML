{
 "cells": [
  {
   "cell_type": "code",
   "execution_count": 1,
   "id": "3ee249f3",
   "metadata": {},
   "outputs": [],
   "source": [
    "import pandas as pd\n",
    "from sklearn.preprocessing import OneHotEncoder,LabelEncoder\n",
    "from sklearn.linear_model import LinearRegression, LogisticRegression\n",
    "from sklearn.ensemble import RandomForestClassifier,RandomForestRegressor\n",
    "from sklearn.metrics import accuracy_score,r2_score"
   ]
  },
  {
   "cell_type": "code",
   "execution_count": 2,
   "id": "12995f0f",
   "metadata": {},
   "outputs": [],
   "source": [
    "df = pd.read_csv('cleaned_dataset_final.csv')"
   ]
  },
  {
   "cell_type": "code",
   "execution_count": 3,
   "id": "680dc4c6",
   "metadata": {},
   "outputs": [
    {
     "data": {
      "text/html": [
       "<div>\n",
       "<style scoped>\n",
       "    .dataframe tbody tr th:only-of-type {\n",
       "        vertical-align: middle;\n",
       "    }\n",
       "\n",
       "    .dataframe tbody tr th {\n",
       "        vertical-align: top;\n",
       "    }\n",
       "\n",
       "    .dataframe thead th {\n",
       "        text-align: right;\n",
       "    }\n",
       "</style>\n",
       "<table border=\"1\" class=\"dataframe\">\n",
       "  <thead>\n",
       "    <tr style=\"text-align: right;\">\n",
       "      <th></th>\n",
       "      <th>restaurant_id</th>\n",
       "      <th>name</th>\n",
       "      <th>location</th>\n",
       "      <th>rating</th>\n",
       "      <th>total_ratings</th>\n",
       "      <th>price_for_2</th>\n",
       "      <th>cusines</th>\n",
       "    </tr>\n",
       "  </thead>\n",
       "  <tbody>\n",
       "    <tr>\n",
       "      <th>0</th>\n",
       "      <td>354531</td>\n",
       "      <td>Burger Seigneur</td>\n",
       "      <td>Sobha Mall</td>\n",
       "      <td>4.4</td>\n",
       "      <td>1000</td>\n",
       "      <td>1200</td>\n",
       "      <td>American</td>\n",
       "    </tr>\n",
       "    <tr>\n",
       "      <th>1</th>\n",
       "      <td>354531</td>\n",
       "      <td>Burger Seigneur</td>\n",
       "      <td>Sobha Mall</td>\n",
       "      <td>4.4</td>\n",
       "      <td>1000</td>\n",
       "      <td>1200</td>\n",
       "      <td>Continental</td>\n",
       "    </tr>\n",
       "    <tr>\n",
       "      <th>2</th>\n",
       "      <td>428</td>\n",
       "      <td>Biryani Pot</td>\n",
       "      <td>BTM Layout</td>\n",
       "      <td>3.9</td>\n",
       "      <td>10000</td>\n",
       "      <td>500</td>\n",
       "      <td>North Indian</td>\n",
       "    </tr>\n",
       "    <tr>\n",
       "      <th>3</th>\n",
       "      <td>428</td>\n",
       "      <td>Biryani Pot</td>\n",
       "      <td>BTM Layout</td>\n",
       "      <td>3.9</td>\n",
       "      <td>10000</td>\n",
       "      <td>500</td>\n",
       "      <td>Biryani</td>\n",
       "    </tr>\n",
       "    <tr>\n",
       "      <th>4</th>\n",
       "      <td>5938</td>\n",
       "      <td>Burger King</td>\n",
       "      <td>Shivaji Nagar</td>\n",
       "      <td>4.1</td>\n",
       "      <td>10000</td>\n",
       "      <td>350</td>\n",
       "      <td>Burgers</td>\n",
       "    </tr>\n",
       "    <tr>\n",
       "      <th>...</th>\n",
       "      <td>...</td>\n",
       "      <td>...</td>\n",
       "      <td>...</td>\n",
       "      <td>...</td>\n",
       "      <td>...</td>\n",
       "      <td>...</td>\n",
       "      <td>...</td>\n",
       "    </tr>\n",
       "    <tr>\n",
       "      <th>1284</th>\n",
       "      <td>641019</td>\n",
       "      <td>Miami Waffles &amp; Jawbreakers</td>\n",
       "      <td>New Bel Road</td>\n",
       "      <td>4.0</td>\n",
       "      <td>4</td>\n",
       "      <td>200</td>\n",
       "      <td>Desserts</td>\n",
       "    </tr>\n",
       "    <tr>\n",
       "      <th>1285</th>\n",
       "      <td>520806</td>\n",
       "      <td>Panda Momos</td>\n",
       "      <td>New Bel Road</td>\n",
       "      <td>3.8</td>\n",
       "      <td>20</td>\n",
       "      <td>200</td>\n",
       "      <td>Asian</td>\n",
       "    </tr>\n",
       "    <tr>\n",
       "      <th>1286</th>\n",
       "      <td>520806</td>\n",
       "      <td>Panda Momos</td>\n",
       "      <td>New Bel Road</td>\n",
       "      <td>3.8</td>\n",
       "      <td>20</td>\n",
       "      <td>200</td>\n",
       "      <td>Tibetan</td>\n",
       "    </tr>\n",
       "    <tr>\n",
       "      <th>1287</th>\n",
       "      <td>692632</td>\n",
       "      <td>FALAFEL HOUSE</td>\n",
       "      <td>Kalyan Nagar</td>\n",
       "      <td>4.0</td>\n",
       "      <td>4</td>\n",
       "      <td>300</td>\n",
       "      <td>Indian</td>\n",
       "    </tr>\n",
       "    <tr>\n",
       "      <th>1288</th>\n",
       "      <td>692632</td>\n",
       "      <td>FALAFEL HOUSE</td>\n",
       "      <td>Kalyan Nagar</td>\n",
       "      <td>4.0</td>\n",
       "      <td>4</td>\n",
       "      <td>300</td>\n",
       "      <td>Arabian</td>\n",
       "    </tr>\n",
       "  </tbody>\n",
       "</table>\n",
       "<p>1289 rows × 7 columns</p>\n",
       "</div>"
      ],
      "text/plain": [
       "      restaurant_id                         name       location  rating  \\\n",
       "0            354531              Burger Seigneur     Sobha Mall     4.4   \n",
       "1            354531              Burger Seigneur     Sobha Mall     4.4   \n",
       "2               428                  Biryani Pot     BTM Layout     3.9   \n",
       "3               428                  Biryani Pot     BTM Layout     3.9   \n",
       "4              5938                  Burger King  Shivaji Nagar     4.1   \n",
       "...             ...                          ...            ...     ...   \n",
       "1284         641019  Miami Waffles & Jawbreakers   New Bel Road     4.0   \n",
       "1285         520806                  Panda Momos   New Bel Road     3.8   \n",
       "1286         520806                  Panda Momos   New Bel Road     3.8   \n",
       "1287         692632                FALAFEL HOUSE   Kalyan Nagar     4.0   \n",
       "1288         692632                FALAFEL HOUSE   Kalyan Nagar     4.0   \n",
       "\n",
       "      total_ratings  price_for_2       cusines  \n",
       "0              1000         1200      American  \n",
       "1              1000         1200   Continental  \n",
       "2             10000          500  North Indian  \n",
       "3             10000          500       Biryani  \n",
       "4             10000          350       Burgers  \n",
       "...             ...          ...           ...  \n",
       "1284              4          200      Desserts  \n",
       "1285             20          200         Asian  \n",
       "1286             20          200       Tibetan  \n",
       "1287              4          300        Indian  \n",
       "1288              4          300       Arabian  \n",
       "\n",
       "[1289 rows x 7 columns]"
      ]
     },
     "execution_count": 3,
     "metadata": {},
     "output_type": "execute_result"
    }
   ],
   "source": [
    "df"
   ]
  },
  {
   "cell_type": "code",
   "execution_count": 8,
   "id": "95201fd6",
   "metadata": {},
   "outputs": [],
   "source": [
    "df.restaurant_id = df.restaurant_id.astype('O')"
   ]
  },
  {
   "cell_type": "code",
   "execution_count": 9,
   "id": "4cbf9104",
   "metadata": {},
   "outputs": [
    {
     "data": {
      "text/plain": [
       "restaurant_id     object\n",
       "name              object\n",
       "location          object\n",
       "rating           float64\n",
       "total_ratings      int64\n",
       "price_for_2        int64\n",
       "cusines           object\n",
       "dtype: object"
      ]
     },
     "execution_count": 9,
     "metadata": {},
     "output_type": "execute_result"
    }
   ],
   "source": [
    "df.dtypes"
   ]
  },
  {
   "cell_type": "code",
   "execution_count": 11,
   "id": "3d8ff91a",
   "metadata": {},
   "outputs": [
    {
     "data": {
      "text/html": [
       "<div>\n",
       "<style scoped>\n",
       "    .dataframe tbody tr th:only-of-type {\n",
       "        vertical-align: middle;\n",
       "    }\n",
       "\n",
       "    .dataframe tbody tr th {\n",
       "        vertical-align: top;\n",
       "    }\n",
       "\n",
       "    .dataframe thead th {\n",
       "        text-align: right;\n",
       "    }\n",
       "</style>\n",
       "<table border=\"1\" class=\"dataframe\">\n",
       "  <thead>\n",
       "    <tr style=\"text-align: right;\">\n",
       "      <th></th>\n",
       "      <th>cusines</th>\n",
       "      <th>location</th>\n",
       "      <th>price_for_2</th>\n",
       "    </tr>\n",
       "  </thead>\n",
       "  <tbody>\n",
       "    <tr>\n",
       "      <th>0</th>\n",
       "      <td>American</td>\n",
       "      <td>Sobha Mall</td>\n",
       "      <td>1200</td>\n",
       "    </tr>\n",
       "    <tr>\n",
       "      <th>1</th>\n",
       "      <td>Continental</td>\n",
       "      <td>Sobha Mall</td>\n",
       "      <td>1200</td>\n",
       "    </tr>\n",
       "    <tr>\n",
       "      <th>2</th>\n",
       "      <td>North Indian</td>\n",
       "      <td>BTM Layout</td>\n",
       "      <td>500</td>\n",
       "    </tr>\n",
       "    <tr>\n",
       "      <th>3</th>\n",
       "      <td>Biryani</td>\n",
       "      <td>BTM Layout</td>\n",
       "      <td>500</td>\n",
       "    </tr>\n",
       "    <tr>\n",
       "      <th>4</th>\n",
       "      <td>Burgers</td>\n",
       "      <td>Shivaji Nagar</td>\n",
       "      <td>350</td>\n",
       "    </tr>\n",
       "    <tr>\n",
       "      <th>...</th>\n",
       "      <td>...</td>\n",
       "      <td>...</td>\n",
       "      <td>...</td>\n",
       "    </tr>\n",
       "    <tr>\n",
       "      <th>1284</th>\n",
       "      <td>Desserts</td>\n",
       "      <td>New Bel Road</td>\n",
       "      <td>200</td>\n",
       "    </tr>\n",
       "    <tr>\n",
       "      <th>1285</th>\n",
       "      <td>Asian</td>\n",
       "      <td>New Bel Road</td>\n",
       "      <td>200</td>\n",
       "    </tr>\n",
       "    <tr>\n",
       "      <th>1286</th>\n",
       "      <td>Tibetan</td>\n",
       "      <td>New Bel Road</td>\n",
       "      <td>200</td>\n",
       "    </tr>\n",
       "    <tr>\n",
       "      <th>1287</th>\n",
       "      <td>Indian</td>\n",
       "      <td>Kalyan Nagar</td>\n",
       "      <td>300</td>\n",
       "    </tr>\n",
       "    <tr>\n",
       "      <th>1288</th>\n",
       "      <td>Arabian</td>\n",
       "      <td>Kalyan Nagar</td>\n",
       "      <td>300</td>\n",
       "    </tr>\n",
       "  </tbody>\n",
       "</table>\n",
       "<p>1289 rows × 3 columns</p>\n",
       "</div>"
      ],
      "text/plain": [
       "           cusines       location  price_for_2\n",
       "0         American     Sobha Mall         1200\n",
       "1      Continental     Sobha Mall         1200\n",
       "2     North Indian     BTM Layout          500\n",
       "3          Biryani     BTM Layout          500\n",
       "4          Burgers  Shivaji Nagar          350\n",
       "...            ...            ...          ...\n",
       "1284      Desserts   New Bel Road          200\n",
       "1285         Asian   New Bel Road          200\n",
       "1286       Tibetan   New Bel Road          200\n",
       "1287        Indian   Kalyan Nagar          300\n",
       "1288       Arabian   Kalyan Nagar          300\n",
       "\n",
       "[1289 rows x 3 columns]"
      ]
     },
     "execution_count": 11,
     "metadata": {},
     "output_type": "execute_result"
    }
   ],
   "source": [
    "df_new = df[['cusines','location','price_for_2']]\n",
    "df_new"
   ]
  },
  {
   "cell_type": "code",
   "execution_count": 69,
   "id": "ce551108",
   "metadata": {},
   "outputs": [
    {
     "data": {
      "text/plain": [
       "13    129\n",
       "8     125\n",
       "38    121\n",
       "17     98\n",
       "26     87\n",
       "7      82\n",
       "48     80\n",
       "18     55\n",
       "43     52\n",
       "24     50\n",
       "4      47\n",
       "27     34\n",
       "49     31\n",
       "9      26\n",
       "0      25\n",
       "29     21\n",
       "16     20\n",
       "30     16\n",
       "2      14\n",
       "6      12\n",
       "1      12\n",
       "52     11\n",
       "54     11\n",
       "42     10\n",
       "37     10\n",
       "50      9\n",
       "55      9\n",
       "44      8\n",
       "56      7\n",
       "3       7\n",
       "58      6\n",
       "21      6\n",
       "51      5\n",
       "32      5\n",
       "23      5\n",
       "45      4\n",
       "41      4\n",
       "10      3\n",
       "33      3\n",
       "46      3\n",
       "47      3\n",
       "31      2\n",
       "15      2\n",
       "22      2\n",
       "35      2\n",
       "34      2\n",
       "36      1\n",
       "28      1\n",
       "40      1\n",
       "57      1\n",
       "25      1\n",
       "53      1\n",
       "11      1\n",
       "12      1\n",
       "39      1\n",
       "5       1\n",
       "19      1\n",
       "20      1\n",
       "14      1\n",
       "Name: cusines, dtype: int64"
      ]
     },
     "execution_count": 69,
     "metadata": {},
     "output_type": "execute_result"
    }
   ],
   "source": [
    "df_new.cusines.value_counts()"
   ]
  },
  {
   "cell_type": "code",
   "execution_count": 13,
   "id": "f58fe240",
   "metadata": {},
   "outputs": [],
   "source": [
    "le = LabelEncoder()"
   ]
  },
  {
   "cell_type": "code",
   "execution_count": 14,
   "id": "ccf04098",
   "metadata": {},
   "outputs": [
    {
     "name": "stderr",
     "output_type": "stream",
     "text": [
      "C:\\Users\\abhis\\AppData\\Local\\Temp\\ipykernel_21340\\520419077.py:1: SettingWithCopyWarning: \n",
      "A value is trying to be set on a copy of a slice from a DataFrame.\n",
      "Try using .loc[row_indexer,col_indexer] = value instead\n",
      "\n",
      "See the caveats in the documentation: https://pandas.pydata.org/pandas-docs/stable/user_guide/indexing.html#returning-a-view-versus-a-copy\n",
      "  df_new['cusines'] = le.fit_transform(df_new['cusines'])\n",
      "C:\\Users\\abhis\\AppData\\Local\\Temp\\ipykernel_21340\\520419077.py:2: SettingWithCopyWarning: \n",
      "A value is trying to be set on a copy of a slice from a DataFrame.\n",
      "Try using .loc[row_indexer,col_indexer] = value instead\n",
      "\n",
      "See the caveats in the documentation: https://pandas.pydata.org/pandas-docs/stable/user_guide/indexing.html#returning-a-view-versus-a-copy\n",
      "  df_new['location'] = le.fit_transform(df_new['location'])\n"
     ]
    }
   ],
   "source": [
    "df_new['cusines'] = le.fit_transform(df_new['cusines'])\n",
    "df_new['location'] = le.fit_transform(df_new['location'])"
   ]
  },
  {
   "cell_type": "code",
   "execution_count": 34,
   "id": "88e8b9a6",
   "metadata": {},
   "outputs": [],
   "source": [
    "x=df_new[['cusines','location']].values\n",
    "y=df_new['price_for_2'].values"
   ]
  },
  {
   "cell_type": "code",
   "execution_count": null,
   "id": "d1952b17",
   "metadata": {},
   "outputs": [],
   "source": []
  },
  {
   "cell_type": "code",
   "execution_count": 63,
   "id": "95ee217f",
   "metadata": {},
   "outputs": [],
   "source": [
    "lr = RandomForestRegressor(random_state=22)"
   ]
  },
  {
   "cell_type": "code",
   "execution_count": 64,
   "id": "e181d337",
   "metadata": {},
   "outputs": [
    {
     "data": {
      "text/plain": [
       "RandomForestRegressor(random_state=22)"
      ]
     },
     "execution_count": 64,
     "metadata": {},
     "output_type": "execute_result"
    }
   ],
   "source": [
    "lr.fit(x,y)"
   ]
  },
  {
   "cell_type": "code",
   "execution_count": 65,
   "id": "b89b10cc",
   "metadata": {},
   "outputs": [],
   "source": [
    "y_pred = lr.predict(x)"
   ]
  },
  {
   "cell_type": "code",
   "execution_count": 66,
   "id": "d6e78a1a",
   "metadata": {},
   "outputs": [
    {
     "data": {
      "text/plain": [
       "0.5613018999792105"
      ]
     },
     "execution_count": 66,
     "metadata": {},
     "output_type": "execute_result"
    }
   ],
   "source": [
    "r2_score(y,y_pred)"
   ]
  },
  {
   "cell_type": "code",
   "execution_count": null,
   "id": "6f2bb5ed",
   "metadata": {},
   "outputs": [],
   "source": []
  }
 ],
 "metadata": {
  "kernelspec": {
   "display_name": "Python 3 (ipykernel)",
   "language": "python",
   "name": "python3"
  },
  "language_info": {
   "codemirror_mode": {
    "name": "ipython",
    "version": 3
   },
   "file_extension": ".py",
   "mimetype": "text/x-python",
   "name": "python",
   "nbconvert_exporter": "python",
   "pygments_lexer": "ipython3",
   "version": "3.9.12"
  }
 },
 "nbformat": 4,
 "nbformat_minor": 5
}
