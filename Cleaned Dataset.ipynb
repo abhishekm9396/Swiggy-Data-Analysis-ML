{
 "cells": [
  {
   "cell_type": "code",
   "execution_count": 1,
   "id": "4831e413",
   "metadata": {},
   "outputs": [],
   "source": [
    "import pandas as pd\n",
    "import numpy as np\n",
    "import seaborn as sns"
   ]
  },
  {
   "cell_type": "code",
   "execution_count": 2,
   "id": "e09f2f6b",
   "metadata": {},
   "outputs": [
    {
     "data": {
      "text/html": [
       "<div>\n",
       "<style scoped>\n",
       "    .dataframe tbody tr th:only-of-type {\n",
       "        vertical-align: middle;\n",
       "    }\n",
       "\n",
       "    .dataframe tbody tr th {\n",
       "        vertical-align: top;\n",
       "    }\n",
       "\n",
       "    .dataframe thead th {\n",
       "        text-align: right;\n",
       "    }\n",
       "</style>\n",
       "<table border=\"1\" class=\"dataframe\">\n",
       "  <thead>\n",
       "    <tr style=\"text-align: right;\">\n",
       "      <th></th>\n",
       "      <th>restaurant_id</th>\n",
       "      <th>restaurant_link</th>\n",
       "      <th>name</th>\n",
       "      <th>location</th>\n",
       "      <th>rating</th>\n",
       "      <th>total_ratings</th>\n",
       "      <th>price_for_2</th>\n",
       "      <th>cusines</th>\n",
       "    </tr>\n",
       "  </thead>\n",
       "  <tbody>\n",
       "    <tr>\n",
       "      <th>0</th>\n",
       "      <td>354531</td>\n",
       "      <td>https://www.swiggy.com/restaurants/burger-seig...</td>\n",
       "      <td>Burger Seigneur</td>\n",
       "      <td>Sobha Mall</td>\n",
       "      <td>4.4</td>\n",
       "      <td>1000.0</td>\n",
       "      <td>₹1200</td>\n",
       "      <td>American, Continental</td>\n",
       "    </tr>\n",
       "    <tr>\n",
       "      <th>1</th>\n",
       "      <td>428</td>\n",
       "      <td>https://www.swiggy.com/restaurants/biryani-pot...</td>\n",
       "      <td>Biryani Pot</td>\n",
       "      <td>BTM Layout</td>\n",
       "      <td>3.9</td>\n",
       "      <td>10000.0</td>\n",
       "      <td>₹500</td>\n",
       "      <td>North Indian, Biryani</td>\n",
       "    </tr>\n",
       "    <tr>\n",
       "      <th>2</th>\n",
       "      <td>5938</td>\n",
       "      <td>https://www.swiggy.com/restaurants/burger-king...</td>\n",
       "      <td>Burger King</td>\n",
       "      <td>Shivaji Nagar</td>\n",
       "      <td>4.1</td>\n",
       "      <td>10000.0</td>\n",
       "      <td>₹350</td>\n",
       "      <td>Burgers, American</td>\n",
       "    </tr>\n",
       "    <tr>\n",
       "      <th>3</th>\n",
       "      <td>312849</td>\n",
       "      <td>https://www.swiggy.com/restaurants/chopstick-a...</td>\n",
       "      <td>Chopstick</td>\n",
       "      <td>R.T. Nagar</td>\n",
       "      <td>4.0</td>\n",
       "      <td>1000.0</td>\n",
       "      <td>₹350</td>\n",
       "      <td>Chinese, Thai</td>\n",
       "    </tr>\n",
       "    <tr>\n",
       "      <th>4</th>\n",
       "      <td>30531</td>\n",
       "      <td>https://www.swiggy.com/restaurants/hotel-empir...</td>\n",
       "      <td>Hotel Empire</td>\n",
       "      <td>Hotel Empire International</td>\n",
       "      <td>4.2</td>\n",
       "      <td>10000.0</td>\n",
       "      <td>₹450</td>\n",
       "      <td>North Indian, Kebabs</td>\n",
       "    </tr>\n",
       "    <tr>\n",
       "      <th>...</th>\n",
       "      <td>...</td>\n",
       "      <td>...</td>\n",
       "      <td>...</td>\n",
       "      <td>...</td>\n",
       "      <td>...</td>\n",
       "      <td>...</td>\n",
       "      <td>...</td>\n",
       "      <td>...</td>\n",
       "    </tr>\n",
       "    <tr>\n",
       "      <th>711</th>\n",
       "      <td>423197</td>\n",
       "      <td>https://www.swiggy.com/restaurants/andhra-meal...</td>\n",
       "      <td>Andhra Meal Company</td>\n",
       "      <td>Indiranagar</td>\n",
       "      <td>3.5</td>\n",
       "      <td>100.0</td>\n",
       "      <td>₹200</td>\n",
       "      <td>South Indian, Home Food</td>\n",
       "    </tr>\n",
       "    <tr>\n",
       "      <th>712</th>\n",
       "      <td>249841</td>\n",
       "      <td>https://www.swiggy.com/restaurants/asian-bowl-...</td>\n",
       "      <td>ASIAN BOWL</td>\n",
       "      <td>BTM Layout</td>\n",
       "      <td>4.2</td>\n",
       "      <td>1000.0</td>\n",
       "      <td>₹250</td>\n",
       "      <td>Chinese, Coastal</td>\n",
       "    </tr>\n",
       "    <tr>\n",
       "      <th>713</th>\n",
       "      <td>641019</td>\n",
       "      <td>https://www.swiggy.com/restaurants/miami-waffl...</td>\n",
       "      <td>Miami Waffles &amp; Jawbreakers</td>\n",
       "      <td>New Bel Road</td>\n",
       "      <td>NaN</td>\n",
       "      <td>NaN</td>\n",
       "      <td>₹200</td>\n",
       "      <td>Waffle, Desserts</td>\n",
       "    </tr>\n",
       "    <tr>\n",
       "      <th>714</th>\n",
       "      <td>520806</td>\n",
       "      <td>https://www.swiggy.com/restaurants/panda-momos...</td>\n",
       "      <td>Panda Momos</td>\n",
       "      <td>New Bel Road</td>\n",
       "      <td>3.8</td>\n",
       "      <td>20.0</td>\n",
       "      <td>₹200</td>\n",
       "      <td>Asian, Tibetan</td>\n",
       "    </tr>\n",
       "    <tr>\n",
       "      <th>715</th>\n",
       "      <td>692632</td>\n",
       "      <td>https://www.swiggy.com/restaurants/falafel-hou...</td>\n",
       "      <td>FALAFEL HOUSE</td>\n",
       "      <td>Kalyan Nagar</td>\n",
       "      <td>NaN</td>\n",
       "      <td>NaN</td>\n",
       "      <td>₹300</td>\n",
       "      <td>Indian, Arabian</td>\n",
       "    </tr>\n",
       "  </tbody>\n",
       "</table>\n",
       "<p>716 rows × 8 columns</p>\n",
       "</div>"
      ],
      "text/plain": [
       "     restaurant_id                                    restaurant_link  \\\n",
       "0           354531  https://www.swiggy.com/restaurants/burger-seig...   \n",
       "1              428  https://www.swiggy.com/restaurants/biryani-pot...   \n",
       "2             5938  https://www.swiggy.com/restaurants/burger-king...   \n",
       "3           312849  https://www.swiggy.com/restaurants/chopstick-a...   \n",
       "4            30531  https://www.swiggy.com/restaurants/hotel-empir...   \n",
       "..             ...                                                ...   \n",
       "711         423197  https://www.swiggy.com/restaurants/andhra-meal...   \n",
       "712         249841  https://www.swiggy.com/restaurants/asian-bowl-...   \n",
       "713         641019  https://www.swiggy.com/restaurants/miami-waffl...   \n",
       "714         520806  https://www.swiggy.com/restaurants/panda-momos...   \n",
       "715         692632  https://www.swiggy.com/restaurants/falafel-hou...   \n",
       "\n",
       "                            name                    location  rating  \\\n",
       "0                Burger Seigneur                  Sobha Mall     4.4   \n",
       "1                    Biryani Pot                  BTM Layout     3.9   \n",
       "2                    Burger King               Shivaji Nagar     4.1   \n",
       "3                      Chopstick                  R.T. Nagar     4.0   \n",
       "4                   Hotel Empire  Hotel Empire International     4.2   \n",
       "..                           ...                         ...     ...   \n",
       "711          Andhra Meal Company                 Indiranagar     3.5   \n",
       "712                   ASIAN BOWL                  BTM Layout     4.2   \n",
       "713  Miami Waffles & Jawbreakers                New Bel Road     NaN   \n",
       "714                  Panda Momos                New Bel Road     3.8   \n",
       "715                FALAFEL HOUSE                Kalyan Nagar     NaN   \n",
       "\n",
       "     total_ratings price_for_2                  cusines  \n",
       "0           1000.0      ₹1200     American, Continental  \n",
       "1          10000.0       ₹500     North Indian, Biryani  \n",
       "2          10000.0       ₹350         Burgers, American  \n",
       "3           1000.0       ₹350             Chinese, Thai  \n",
       "4          10000.0       ₹450      North Indian, Kebabs  \n",
       "..             ...         ...                      ...  \n",
       "711          100.0       ₹200   South Indian, Home Food  \n",
       "712         1000.0       ₹250          Chinese, Coastal  \n",
       "713            NaN       ₹200          Waffle, Desserts  \n",
       "714           20.0       ₹200            Asian, Tibetan  \n",
       "715            NaN       ₹300           Indian, Arabian  \n",
       "\n",
       "[716 rows x 8 columns]"
      ]
     },
     "execution_count": 2,
     "metadata": {},
     "output_type": "execute_result"
    }
   ],
   "source": [
    "df = pd.read_excel('cleaned_data.xlsx')\n",
    "df"
   ]
  },
  {
   "cell_type": "code",
   "execution_count": 3,
   "id": "bcbbbf8a",
   "metadata": {},
   "outputs": [],
   "source": [
    "df.drop('restaurant_link',axis=1,inplace=True)"
   ]
  },
  {
   "cell_type": "code",
   "execution_count": 4,
   "id": "c7f6f07f",
   "metadata": {},
   "outputs": [
    {
     "data": {
      "text/html": [
       "<div>\n",
       "<style scoped>\n",
       "    .dataframe tbody tr th:only-of-type {\n",
       "        vertical-align: middle;\n",
       "    }\n",
       "\n",
       "    .dataframe tbody tr th {\n",
       "        vertical-align: top;\n",
       "    }\n",
       "\n",
       "    .dataframe thead th {\n",
       "        text-align: right;\n",
       "    }\n",
       "</style>\n",
       "<table border=\"1\" class=\"dataframe\">\n",
       "  <thead>\n",
       "    <tr style=\"text-align: right;\">\n",
       "      <th></th>\n",
       "      <th>restaurant_id</th>\n",
       "      <th>name</th>\n",
       "      <th>location</th>\n",
       "      <th>rating</th>\n",
       "      <th>total_ratings</th>\n",
       "      <th>price_for_2</th>\n",
       "      <th>cusines</th>\n",
       "    </tr>\n",
       "  </thead>\n",
       "  <tbody>\n",
       "    <tr>\n",
       "      <th>0</th>\n",
       "      <td>354531</td>\n",
       "      <td>Burger Seigneur</td>\n",
       "      <td>Sobha Mall</td>\n",
       "      <td>4.4</td>\n",
       "      <td>1000.0</td>\n",
       "      <td>₹1200</td>\n",
       "      <td>American, Continental</td>\n",
       "    </tr>\n",
       "    <tr>\n",
       "      <th>1</th>\n",
       "      <td>428</td>\n",
       "      <td>Biryani Pot</td>\n",
       "      <td>BTM Layout</td>\n",
       "      <td>3.9</td>\n",
       "      <td>10000.0</td>\n",
       "      <td>₹500</td>\n",
       "      <td>North Indian, Biryani</td>\n",
       "    </tr>\n",
       "    <tr>\n",
       "      <th>2</th>\n",
       "      <td>5938</td>\n",
       "      <td>Burger King</td>\n",
       "      <td>Shivaji Nagar</td>\n",
       "      <td>4.1</td>\n",
       "      <td>10000.0</td>\n",
       "      <td>₹350</td>\n",
       "      <td>Burgers, American</td>\n",
       "    </tr>\n",
       "    <tr>\n",
       "      <th>3</th>\n",
       "      <td>312849</td>\n",
       "      <td>Chopstick</td>\n",
       "      <td>R.T. Nagar</td>\n",
       "      <td>4.0</td>\n",
       "      <td>1000.0</td>\n",
       "      <td>₹350</td>\n",
       "      <td>Chinese, Thai</td>\n",
       "    </tr>\n",
       "    <tr>\n",
       "      <th>4</th>\n",
       "      <td>30531</td>\n",
       "      <td>Hotel Empire</td>\n",
       "      <td>Hotel Empire International</td>\n",
       "      <td>4.2</td>\n",
       "      <td>10000.0</td>\n",
       "      <td>₹450</td>\n",
       "      <td>North Indian, Kebabs</td>\n",
       "    </tr>\n",
       "    <tr>\n",
       "      <th>...</th>\n",
       "      <td>...</td>\n",
       "      <td>...</td>\n",
       "      <td>...</td>\n",
       "      <td>...</td>\n",
       "      <td>...</td>\n",
       "      <td>...</td>\n",
       "      <td>...</td>\n",
       "    </tr>\n",
       "    <tr>\n",
       "      <th>711</th>\n",
       "      <td>423197</td>\n",
       "      <td>Andhra Meal Company</td>\n",
       "      <td>Indiranagar</td>\n",
       "      <td>3.5</td>\n",
       "      <td>100.0</td>\n",
       "      <td>₹200</td>\n",
       "      <td>South Indian, Home Food</td>\n",
       "    </tr>\n",
       "    <tr>\n",
       "      <th>712</th>\n",
       "      <td>249841</td>\n",
       "      <td>ASIAN BOWL</td>\n",
       "      <td>BTM Layout</td>\n",
       "      <td>4.2</td>\n",
       "      <td>1000.0</td>\n",
       "      <td>₹250</td>\n",
       "      <td>Chinese, Coastal</td>\n",
       "    </tr>\n",
       "    <tr>\n",
       "      <th>713</th>\n",
       "      <td>641019</td>\n",
       "      <td>Miami Waffles &amp; Jawbreakers</td>\n",
       "      <td>New Bel Road</td>\n",
       "      <td>NaN</td>\n",
       "      <td>NaN</td>\n",
       "      <td>₹200</td>\n",
       "      <td>Waffle, Desserts</td>\n",
       "    </tr>\n",
       "    <tr>\n",
       "      <th>714</th>\n",
       "      <td>520806</td>\n",
       "      <td>Panda Momos</td>\n",
       "      <td>New Bel Road</td>\n",
       "      <td>3.8</td>\n",
       "      <td>20.0</td>\n",
       "      <td>₹200</td>\n",
       "      <td>Asian, Tibetan</td>\n",
       "    </tr>\n",
       "    <tr>\n",
       "      <th>715</th>\n",
       "      <td>692632</td>\n",
       "      <td>FALAFEL HOUSE</td>\n",
       "      <td>Kalyan Nagar</td>\n",
       "      <td>NaN</td>\n",
       "      <td>NaN</td>\n",
       "      <td>₹300</td>\n",
       "      <td>Indian, Arabian</td>\n",
       "    </tr>\n",
       "  </tbody>\n",
       "</table>\n",
       "<p>716 rows × 7 columns</p>\n",
       "</div>"
      ],
      "text/plain": [
       "     restaurant_id                         name                    location  \\\n",
       "0           354531              Burger Seigneur                  Sobha Mall   \n",
       "1              428                  Biryani Pot                  BTM Layout   \n",
       "2             5938                  Burger King               Shivaji Nagar   \n",
       "3           312849                    Chopstick                  R.T. Nagar   \n",
       "4            30531                 Hotel Empire  Hotel Empire International   \n",
       "..             ...                          ...                         ...   \n",
       "711         423197          Andhra Meal Company                 Indiranagar   \n",
       "712         249841                   ASIAN BOWL                  BTM Layout   \n",
       "713         641019  Miami Waffles & Jawbreakers                New Bel Road   \n",
       "714         520806                  Panda Momos                New Bel Road   \n",
       "715         692632                FALAFEL HOUSE                Kalyan Nagar   \n",
       "\n",
       "     rating  total_ratings price_for_2                  cusines  \n",
       "0       4.4         1000.0      ₹1200     American, Continental  \n",
       "1       3.9        10000.0       ₹500     North Indian, Biryani  \n",
       "2       4.1        10000.0       ₹350         Burgers, American  \n",
       "3       4.0         1000.0       ₹350             Chinese, Thai  \n",
       "4       4.2        10000.0       ₹450      North Indian, Kebabs  \n",
       "..      ...            ...         ...                      ...  \n",
       "711     3.5          100.0       ₹200   South Indian, Home Food  \n",
       "712     4.2         1000.0       ₹250          Chinese, Coastal  \n",
       "713     NaN            NaN       ₹200          Waffle, Desserts  \n",
       "714     3.8           20.0       ₹200            Asian, Tibetan  \n",
       "715     NaN            NaN       ₹300           Indian, Arabian  \n",
       "\n",
       "[716 rows x 7 columns]"
      ]
     },
     "execution_count": 4,
     "metadata": {},
     "output_type": "execute_result"
    }
   ],
   "source": [
    "df"
   ]
  },
  {
   "cell_type": "code",
   "execution_count": 5,
   "id": "a79a7c23",
   "metadata": {},
   "outputs": [],
   "source": [
    "df['cusines'] = df['cusines'].str.split(', ')"
   ]
  },
  {
   "cell_type": "code",
   "execution_count": 6,
   "id": "ddb7d566",
   "metadata": {},
   "outputs": [],
   "source": [
    "df = df.explode(['cusines'])\n",
    "df['price_for_2'] = df['price_for_2'].str.replace(\"₹\",\"\")"
   ]
  },
  {
   "cell_type": "code",
   "execution_count": 7,
   "id": "5a02fcee",
   "metadata": {},
   "outputs": [
    {
     "name": "stdout",
     "output_type": "stream",
     "text": [
      "<class 'pandas.core.frame.DataFrame'>\n",
      "Int64Index: 1289 entries, 0 to 715\n",
      "Data columns (total 7 columns):\n",
      " #   Column         Non-Null Count  Dtype  \n",
      "---  ------         --------------  -----  \n",
      " 0   restaurant_id  1289 non-null   int64  \n",
      " 1   name           1289 non-null   object \n",
      " 2   location       1289 non-null   object \n",
      " 3   rating         1019 non-null   float64\n",
      " 4   total_ratings  1019 non-null   float64\n",
      " 5   price_for_2    1289 non-null   object \n",
      " 6   cusines        1289 non-null   object \n",
      "dtypes: float64(2), int64(1), object(4)\n",
      "memory usage: 80.6+ KB\n"
     ]
    }
   ],
   "source": [
    "df.info()"
   ]
  },
  {
   "cell_type": "code",
   "execution_count": 8,
   "id": "9b993ea2",
   "metadata": {},
   "outputs": [
    {
     "name": "stderr",
     "output_type": "stream",
     "text": [
      "C:\\ProgramData\\Anaconda3\\lib\\site-packages\\seaborn\\distributions.py:2619: FutureWarning: `distplot` is a deprecated function and will be removed in a future version. Please adapt your code to use either `displot` (a figure-level function with similar flexibility) or `histplot` (an axes-level function for histograms).\n",
      "  warnings.warn(msg, FutureWarning)\n"
     ]
    },
    {
     "name": "stdout",
     "output_type": "stream",
     "text": [
      "mean:  3.861138370951909\n",
      "median:  4.0\n"
     ]
    },
    {
     "data": {
      "image/png": "[encoded data removed]",
      "text/plain": [
       "<Figure size 432x288 with 1 Axes>"
      ]
     },
     "metadata": {
      "needs_background": "light"
     },
     "output_type": "display_data"
    }
   ],
   "source": [
    "sns.distplot(df.rating)\n",
    "print('mean: ',df.rating.mean())\n",
    "print('median: ',df.rating.median())"
   ]
  },
  {
   "cell_type": "code",
   "execution_count": null,
   "id": "7b73bf56",
   "metadata": {},
   "outputs": [],
   "source": []
  },
  {
   "cell_type": "code",
   "execution_count": 9,
   "id": "68a224ce",
   "metadata": {},
   "outputs": [
    {
     "name": "stdout",
     "output_type": "stream",
     "text": [
      "mean:  1545.7409224730127\n",
      "median:  100.0\n"
     ]
    },
    {
     "name": "stderr",
     "output_type": "stream",
     "text": [
      "C:\\ProgramData\\Anaconda3\\lib\\site-packages\\seaborn\\distributions.py:2619: FutureWarning: `distplot` is a deprecated function and will be removed in a future version. Please adapt your code to use either `displot` (a figure-level function with similar flexibility) or `histplot` (an axes-level function for histograms).\n",
      "  warnings.warn(msg, FutureWarning)\n"
     ]
    },
    {
     "data": {
      "image/png": "[encoded data removed]",
      "text/plain": [
       "<Figure size 432x288 with 1 Axes>"
      ]
     },
     "metadata": {
      "needs_background": "light"
     },
     "output_type": "display_data"
    }
   ],
   "source": [
    "sns.distplot(df.total_ratings)\n",
    "print('mean: ', df.total_ratings.mean())\n",
    "print('median: ', df.total_ratings.median())"
   ]
  },
  {
   "cell_type": "code",
   "execution_count": 10,
   "id": "e614a2c7",
   "metadata": {},
   "outputs": [],
   "source": [
    "df.rating.fillna(df.rating.median(),inplace=True)\n",
    "df.total_ratings.fillna(df.rating.median(),inplace=True)"
   ]
  },
  {
   "cell_type": "code",
   "execution_count": 11,
   "id": "731ff6d0",
   "metadata": {},
   "outputs": [
    {
     "data": {
      "text/plain": [
       "restaurant_id      int64\n",
       "name              object\n",
       "location          object\n",
       "rating           float64\n",
       "total_ratings    float64\n",
       "price_for_2       object\n",
       "cusines           object\n",
       "dtype: object"
      ]
     },
     "execution_count": 11,
     "metadata": {},
     "output_type": "execute_result"
    }
   ],
   "source": [
    "df.dtypes"
   ]
  },
  {
   "cell_type": "code",
   "execution_count": 12,
   "id": "21da6eb7",
   "metadata": {},
   "outputs": [],
   "source": [
    "df.price_for_2 = df.price_for_2.astype('int')\n",
    "df.total_ratings = df.total_ratings.astype('int')\n",
    "df.restaurant_id = df.restaurant_id.astype('O')"
   ]
  },
  {
   "cell_type": "code",
   "execution_count": 20,
   "id": "114abc23",
   "metadata": {},
   "outputs": [],
   "source": [
    "df.to_csv('cleaned_dataset_final.csv',index=False)"
   ]
  },
  {
   "cell_type": "markdown",
   "id": "7eb12ce8",
   "metadata": {},
   "source": [
    "# "
   ]
  }
 ],
 "metadata": {
  "kernelspec": {
   "display_name": "Python 3 (ipykernel)",
   "language": "python",
   "name": "python3"
  },
  "language_info": {
   "codemirror_mode": {
    "name": "ipython",
    "version": 3
   },
   "file_extension": ".py",
   "mimetype": "text/x-python",
   "name": "python",
   "nbconvert_exporter": "python",
   "pygments_lexer": "ipython3",
   "version": "3.9.12"
  }
 },
 "nbformat": 4,
 "nbformat_minor": 5
}
